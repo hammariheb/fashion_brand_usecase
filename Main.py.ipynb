{
 "cells": [
  {
   "cell_type": "code",
   "execution_count": 19,
   "metadata": {},
   "outputs": [
    {
     "name": "stdout",
     "output_type": "stream",
     "text": [
      "Requirement already satisfied: pandas in c:\\users\\iheb\\appdata\\local\\programs\\python\\python312\\lib\\site-packages (2.2.2)\n",
      "Requirement already satisfied: sqlalchemy in c:\\users\\iheb\\appdata\\local\\programs\\python\\python312\\lib\\site-packages (2.0.31)\n",
      "Requirement already satisfied: pyodbc in c:\\users\\iheb\\appdata\\local\\programs\\python\\python312\\lib\\site-packages (5.1.0)\n",
      "Requirement already satisfied: numpy>=1.26.0 in c:\\users\\iheb\\appdata\\local\\programs\\python\\python312\\lib\\site-packages (from pandas) (1.26.4)\n",
      "Requirement already satisfied: python-dateutil>=2.8.2 in c:\\users\\iheb\\appdata\\roaming\\python\\python312\\site-packages (from pandas) (2.9.0.post0)\n",
      "Requirement already satisfied: pytz>=2020.1 in c:\\users\\iheb\\appdata\\local\\programs\\python\\python312\\lib\\site-packages (from pandas) (2024.1)\n",
      "Requirement already satisfied: tzdata>=2022.7 in c:\\users\\iheb\\appdata\\local\\programs\\python\\python312\\lib\\site-packages (from pandas) (2024.1)\n",
      "Requirement already satisfied: typing-extensions>=4.6.0 in c:\\users\\iheb\\appdata\\local\\programs\\python\\python312\\lib\\site-packages (from sqlalchemy) (4.12.2)\n",
      "Requirement already satisfied: greenlet!=0.4.17 in c:\\users\\iheb\\appdata\\local\\programs\\python\\python312\\lib\\site-packages (from sqlalchemy) (3.0.3)\n",
      "Requirement already satisfied: six>=1.5 in c:\\users\\iheb\\appdata\\roaming\\python\\python312\\site-packages (from python-dateutil>=2.8.2->pandas) (1.16.0)\n",
      "Note: you may need to restart the kernel to use updated packages.\n"
     ]
    }
   ],
   "source": [
    "%pip install pandas sqlalchemy pyodbc"
   ]
  },
  {
   "cell_type": "code",
   "execution_count": 20,
   "metadata": {},
   "outputs": [
    {
     "name": "stdout",
     "output_type": "stream",
     "text": [
      "CPU times: total: 0 ns\n",
      "Wall time: 997 μs\n"
     ]
    }
   ],
   "source": [
    "import json\n",
    "import pandas as pd\n",
    "from sqlalchemy import create_engine\n",
    "import warnings\n",
    "import os\n",
    "%time"
   ]
  },
  {
   "cell_type": "code",
   "execution_count": 21,
   "metadata": {},
   "outputs": [
    {
     "name": "stdout",
     "output_type": "stream",
     "text": [
      "CPU times: total: 0 ns\n",
      "Wall time: 0 ns\n"
     ]
    }
   ],
   "source": [
    "%time\n",
    "warnings.filterwarnings('ignore')\n",
    "# Load configuration from JSON file\n",
    "with open('C:/Users/Iheb/Desktop/Cours/Projects/Vesitaire_use_case/conf.json', 'r') as config_file:\n",
    "    config = json.load(config_file)\n",
    "\n",
    "# Fetching credentials from the configuration\n",
    "server = config['server']\n",
    "database = config['database']\n",
    "username = config['username']\n",
    "password = config['password']\n",
    "driver = config['driver']\n",
    "\n",
    "# Create a database connection string\n",
    "connection_string = f\"mssql+pyodbc://{username}:{password}@{server}/{database}?driver={driver}&TrustServerCertificate=yes\"\n",
    "\n",
    "# Create a SQLAlchemy engine\n",
    "engine = create_engine(connection_string)\n",
    "\n",
    "# Executing query 1\n",
    "sales = 'SELECT * FROM [Testing].[dbo].[sales_vestiaire]'\n",
    "\n",
    "# Execute the query and load data into a pandas DataFrame\n",
    "sales_vestiaire = pd.read_sql(sales, engine)\n",
    "\n",
    "#Executing query 2\n",
    "country = 'SELECT * FROM [Testing].[dbo].[country]'\n",
    "\n",
    "# Execute the query and load data into a pandas DataFrame\n",
    "country = pd.read_sql(country, engine)"
   ]
  },
  {
   "cell_type": "markdown",
   "metadata": {},
   "source": [
    "Voir les premières lignes de chaque table dans notre Base de données"
   ]
  },
  {
   "cell_type": "code",
   "execution_count": 22,
   "metadata": {},
   "outputs": [
    {
     "name": "stdout",
     "output_type": "stream",
     "text": [
      "   ID_ORDER  ID_PRODUCT  ID_BUYER  ID_SELLER  ID_SELLER_COUNTRY  \\\n",
      "0  34033734    13681706   9666775    6723223                203   \n",
      "1  33933770    13575555   8259842    9983902                222   \n",
      "2  33415990    10239167   8541994     144764                141   \n",
      "3  33415990    10239167   8941774     144764                141   \n",
      "4  33415990    10239167   8541774     944764                141   \n",
      "\n",
      "   ID_BUYER_COUNTRY        DATE_PAYMENT      BRAND  CATEGORY     REVENUE  \n",
      "0               170 2021-01-07 00:09:24  Dsquared2  clothing   57.274559  \n",
      "1               222 2021-01-05 00:23:10      Eytys     shoes  168.739868  \n",
      "2               204 2021-01-06 00:06:50       Dior     shoes  126.414001  \n",
      "3               204 2021-01-06 00:06:50       Dior     shoes  126.414001  \n",
      "4               204 2021-01-06 00:06:50       Dior     shoes  126.414001  \n",
      "   ID_COUNTRY   REGION         COUNTRY\n",
      "0           0  UNKNOWN         UNKNOWN\n",
      "1           1     EMEA     Afghanistan\n",
      "2           2     EMEA         Albania\n",
      "3           3     EMEA         Algeria\n",
      "4           4     APAC  American Samoa\n"
     ]
    }
   ],
   "source": [
    "print(sales_vestiaire.head())\n",
    "print(country.head())"
   ]
  },
  {
   "cell_type": "code",
   "execution_count": 27,
   "metadata": {},
   "outputs": [
    {
     "name": "stdout",
     "output_type": "stream",
     "text": [
      "Query from Q1.sql executed successfully.\n",
      "\n",
      "\n",
      "\n"
     ]
    },
    {
     "data": {
      "text/html": [
       "<div>\n",
       "<style scoped>\n",
       "    .dataframe tbody tr th:only-of-type {\n",
       "        vertical-align: middle;\n",
       "    }\n",
       "\n",
       "    .dataframe tbody tr th {\n",
       "        vertical-align: top;\n",
       "    }\n",
       "\n",
       "    .dataframe thead th {\n",
       "        text-align: right;\n",
       "    }\n",
       "</style>\n",
       "<table border=\"1\" class=\"dataframe\">\n",
       "  <thead>\n",
       "    <tr style=\"text-align: right;\">\n",
       "      <th></th>\n",
       "      <th>BRAND</th>\n",
       "      <th>Tot_revenue</th>\n",
       "    </tr>\n",
       "  </thead>\n",
       "  <tbody>\n",
       "    <tr>\n",
       "      <th>0</th>\n",
       "      <td>Chanel</td>\n",
       "      <td>67121.056709</td>\n",
       "    </tr>\n",
       "    <tr>\n",
       "      <th>1</th>\n",
       "      <td>Gucci</td>\n",
       "      <td>50919.974384</td>\n",
       "    </tr>\n",
       "    <tr>\n",
       "      <th>2</th>\n",
       "      <td>Hermès</td>\n",
       "      <td>42004.112427</td>\n",
       "    </tr>\n",
       "    <tr>\n",
       "      <th>3</th>\n",
       "      <td>Louis Vuitton</td>\n",
       "      <td>40947.424335</td>\n",
       "    </tr>\n",
       "    <tr>\n",
       "      <th>4</th>\n",
       "      <td>Dior</td>\n",
       "      <td>14767.671007</td>\n",
       "    </tr>\n",
       "    <tr>\n",
       "      <th>5</th>\n",
       "      <td>Prada</td>\n",
       "      <td>14588.179955</td>\n",
       "    </tr>\n",
       "    <tr>\n",
       "      <th>6</th>\n",
       "      <td>Dolce &amp; Gabbana</td>\n",
       "      <td>12011.271271</td>\n",
       "    </tr>\n",
       "    <tr>\n",
       "      <th>7</th>\n",
       "      <td>Saint Laurent</td>\n",
       "      <td>7774.730789</td>\n",
       "    </tr>\n",
       "    <tr>\n",
       "      <th>8</th>\n",
       "      <td>Balenciaga</td>\n",
       "      <td>7746.351032</td>\n",
       "    </tr>\n",
       "    <tr>\n",
       "      <th>9</th>\n",
       "      <td>Non Signé / Unsigned</td>\n",
       "      <td>7688.520052</td>\n",
       "    </tr>\n",
       "  </tbody>\n",
       "</table>\n",
       "</div>"
      ],
      "text/plain": [
       "                  BRAND   Tot_revenue\n",
       "0                Chanel  67121.056709\n",
       "1                 Gucci  50919.974384\n",
       "2                Hermès  42004.112427\n",
       "3         Louis Vuitton  40947.424335\n",
       "4                  Dior  14767.671007\n",
       "5                 Prada  14588.179955\n",
       "6       Dolce & Gabbana  12011.271271\n",
       "7         Saint Laurent   7774.730789\n",
       "8            Balenciaga   7746.351032\n",
       "9  Non Signé / Unsigned   7688.520052"
      ]
     },
     "execution_count": 27,
     "metadata": {},
     "output_type": "execute_result"
    }
   ],
   "source": [
    "def execute_query(query_file, engine, **kwargs):\n",
    "    try:\n",
    "        query_path = os.path.join('C:/Users/Iheb/Desktop/Cours/Projects/Vesitaire_use_case/queries', query_file)\n",
    "        with open(query_path, 'r') as sql_file:\n",
    "            query = sql_file.read()\n",
    "            df = pd.read_sql(query, engine, **kwargs)\n",
    "            print(f\"Query {query_file} executed successfully.\\n\")\n",
    "            print(\"\\n\")\n",
    "            return df  # Return DataFrame if needed for further processing\n",
    "    except Exception as e:\n",
    "        print(f\"Error executing query from {query_file}: {str(e)}\\n\")\n",
    "\n",
    "execute_query('Q1.sql', engine)\n"
   ]
  }
 ],
 "metadata": {
  "kernelspec": {
   "display_name": "Python 3",
   "language": "python",
   "name": "python3"
  },
  "language_info": {
   "codemirror_mode": {
    "name": "ipython",
    "version": 3
   },
   "file_extension": ".py",
   "mimetype": "text/x-python",
   "name": "python",
   "nbconvert_exporter": "python",
   "pygments_lexer": "ipython3",
   "version": "3.12.4"
  }
 },
 "nbformat": 4,
 "nbformat_minor": 2
}
